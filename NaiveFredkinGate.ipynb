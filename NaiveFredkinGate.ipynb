{
 "cells": [
  {
   "cell_type": "code",
   "execution_count": 1,
   "id": "e1d88ea7",
   "metadata": {},
   "outputs": [
    {
     "name": "stdout",
     "output_type": "stream",
     "text": [
      "Stimulus 1: [0, 2, 3], Match: False\n",
      "Stimulus 2: [1, 2, 3], Match: False\n",
      "Stimulus 3: [0, 5, 6], Match: False\n",
      "Stimulus 4: [1, 2, 3], Match: True\n"
     ]
    }
   ],
   "source": [
    "class FredkinGate:\n",
    "    def __init__(self):\n",
    "        pass\n",
    "\n",
    "    def operate(self, A, B, c):\n",
    "        \"\"\" \n",
    "        Perform the Fredkin gate operation.\n",
    "        If c == 1, swap A and B.\n",
    "        If c == 0, leave A and B unchanged.\n",
    "        \"\"\"\n",
    "        if c == 1:\n",
    "            return B, A\n",
    "        return A, B\n",
    "\n",
    "class SampleDelayToMatch:\n",
    "    def __init__(self):\n",
    "        self.stack = [None, None]  # Initialize a stack to hold two stimuli\n",
    "        self.fredkin_gate = FredkinGate()\n",
    "\n",
    "    def process_stimulus(self, V):\n",
    "        \"\"\"\n",
    "        Process an incoming stimulus vector V.\n",
    "        Returns True if the incoming stimulus matches the remembered stimulus, False otherwise.\n",
    "        \"\"\"\n",
    "        # Check if the first dimension of V is 1 (target stimulus)\n",
    "        c = 1 if V[0] == 1 else 0\n",
    "\n",
    "        # Retrieve the current stack values\n",
    "        A, B = self.stack\n",
    "\n",
    "        # Apply the Fredkin gate operation\n",
    "        A, B = self.fredkin_gate.operate(A, B, c)\n",
    "\n",
    "        # Compare the incoming stimulus with the remembered stimulus (A)\n",
    "        match = A is not None and V == A\n",
    "\n",
    "        # Update the stack\n",
    "        self.stack = [V, A]  # Push the new stimulus and update the remembered stimulus\n",
    "\n",
    "        return match\n",
    "\n",
    "# Example usage\n",
    "task = SampleDelayToMatch()\n",
    "\n",
    "# Define a sequence of stimulus vectors (only the first dimension is used for simplicity)\n",
    "stimuli = [\n",
    "    [0, 2, 3],  # Non-target stimulus\n",
    "    [1, 2, 3],  # Target stimulus\n",
    "    [0, 5, 6],  # Non-target stimulus\n",
    "    [1, 2, 3],  # Target stimulus (matches the remembered stimulus)\n",
    "]\n",
    "\n",
    "# Process each stimulus and print the result\n",
    "for i, stimulus in enumerate(stimuli):\n",
    "    match = task.process_stimulus(stimulus)\n",
    "    print(f\"Stimulus {i + 1}: {stimulus}, Match: {match}\")\n"
   ]
  }
 ],
 "metadata": {
  "kernelspec": {
   "display_name": "Python 3 (ipykernel)",
   "language": "python",
   "name": "python3"
  },
  "language_info": {
   "codemirror_mode": {
    "name": "ipython",
    "version": 3
   },
   "file_extension": ".py",
   "mimetype": "text/x-python",
   "name": "python",
   "nbconvert_exporter": "python",
   "pygments_lexer": "ipython3",
   "version": "3.12.3"
  }
 },
 "nbformat": 4,
 "nbformat_minor": 5
}
